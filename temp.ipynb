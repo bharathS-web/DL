{
 "cells": [
  {
   "cell_type": "code",
   "execution_count": 2,
   "metadata": {},
   "outputs": [
    {
     "name": "stderr",
     "output_type": "stream",
     "text": [
      "<>:8: SyntaxWarning: invalid escape sequence '\\V'\n",
      "<>:9: SyntaxWarning: invalid escape sequence '\\V'\n",
      "<>:8: SyntaxWarning: invalid escape sequence '\\V'\n",
      "<>:9: SyntaxWarning: invalid escape sequence '\\V'\n",
      "C:\\Users\\sbhar\\AppData\\Local\\Temp\\ipykernel_15320\\261802052.py:8: SyntaxWarning: invalid escape sequence '\\V'\n",
      "  audio_base_path = \"D:\\VideoAndAudio\\Audio\"  # replace with your dataset path\n",
      "C:\\Users\\sbhar\\AppData\\Local\\Temp\\ipykernel_15320\\261802052.py:9: SyntaxWarning: invalid escape sequence '\\V'\n",
      "  image_base_path = \"D:\\VideoAndAudio\\Audio-V\"  # where to save spectrogram images\n"
     ]
    },
    {
     "name": "stdout",
     "output_type": "stream",
     "text": [
      "Saved: D:\\VideoAndAudio\\Audio-V\\Angry\\1001_DFA_ANG_XX.png\n",
      "Saved: D:\\VideoAndAudio\\Audio-V\\Dis\\1001_DFA_DIS_XX.png\n",
      "Saved: D:\\VideoAndAudio\\Audio-V\\Fear\\1001_DFA_FEA_XX.png\n",
      "Saved: D:\\VideoAndAudio\\Audio-V\\Happy\\1001_DFA_HAP_XX.png\n",
      "Saved: D:\\VideoAndAudio\\Audio-V\\Neutral\\1001_DFA_NEU_XX.png\n",
      "Saved: D:\\VideoAndAudio\\Audio-V\\Sad\\1001_DFA_SAD_XX.png\n"
     ]
    }
   ],
   "source": [
    "import os\n",
    "import librosa\n",
    "import librosa.display\n",
    "import matplotlib.pyplot as plt\n",
    "import numpy as np\n",
    "\n",
    "# Set input and output paths\n",
    "audio_base_path = \"D:\\VideoAndAudio\\Audio\"  # replace with your dataset path\n",
    "image_base_path = \"D:\\VideoAndAudio\\Audio-V\"  # where to save spectrogram images\n",
    "\n",
    "# Create the output image directory structure\n",
    "os.makedirs(image_base_path, exist_ok=True)\n",
    "\n",
    "# Function to convert audio to mel spectrogram and save as image\n",
    "def audio_to_melspectrogram_image(audio_path, output_image_path):\n",
    "    y, sr = librosa.load(audio_path, sr=22050)\n",
    "    S = librosa.feature.melspectrogram(y=y, sr=sr)\n",
    "    S_dB = librosa.power_to_db(S, ref=np.max)\n",
    "\n",
    "    plt.figure(figsize=(2.24, 2.24), dpi=100)  # 224x224 image\n",
    "    plt.axis('off')\n",
    "    librosa.display.specshow(S_dB, sr=sr, cmap='magma')\n",
    "    # plt.tight_layout()\n",
    "    plt.savefig(output_image_path, bbox_inches='tight', pad_inches=0)\n",
    "    plt.close()\n",
    "\n",
    "# Traverse each class folder\n",
    "for class_name in os.listdir(audio_base_path):\n",
    "    class_audio_path = os.path.join(audio_base_path, class_name)\n",
    "    class_image_path = os.path.join(image_base_path, class_name)\n",
    "    os.makedirs(class_image_path, exist_ok=True)\n",
    "\n",
    "    # For each audio file\n",
    "    for file_name in os.listdir(class_audio_path):\n",
    "        if file_name.endswith('.wav'):\n",
    "            audio_file = os.path.join(class_audio_path, file_name)\n",
    "            image_file = os.path.join(class_image_path, file_name.replace('.wav', '.png'))\n",
    "            \n",
    "            audio_to_melspectrogram_image(audio_file, image_file)\n",
    "            print(f\"Saved: {image_file}\")\n",
    "            \n"
   ]
  }
 ],
 "metadata": {
  "kernelspec": {
   "display_name": "myenv",
   "language": "python",
   "name": "python3"
  },
  "language_info": {
   "codemirror_mode": {
    "name": "ipython",
    "version": 3
   },
   "file_extension": ".py",
   "mimetype": "text/x-python",
   "name": "python",
   "nbconvert_exporter": "python",
   "pygments_lexer": "ipython3",
   "version": "3.12.7"
  }
 },
 "nbformat": 4,
 "nbformat_minor": 2
}
