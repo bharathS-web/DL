{
  "nbformat": 4,
  "nbformat_minor": 0,
  "metadata": {
    "colab": {
      "provenance": [],
      "authorship_tag": "ABX9TyOQFeCFskm3YO4SruX6V69t"
    },
    "kernelspec": {
      "name": "python3",
      "display_name": "Python 3"
    },
    "language_info": {
      "name": "python"
    }
  },
  "cells": [
    {
      "cell_type": "code",
      "execution_count": 14,
      "metadata": {
        "id": "suta0rtPbySe"
      },
      "outputs": [],
      "source": [
        "import numpy as np\n",
        "import pandas as pd\n",
        "\n",
        "import torch\n",
        "import torch.nn as nn\n",
        "import torch.optim as optim\n",
        "\n",
        "from sklearn.datasets import load_wine\n",
        "from sklearn.model_selection import train_test_split\n",
        "from sklearn.preprocessing import StandardScaler\n",
        "from sklearn.cluster import KMeans\n",
        "\n",
        "import matplotlib.pyplot as plt"
      ]
    },
    {
      "cell_type": "code",
      "source": [
        "wine = load_wine()\n",
        "X, y = wine.data, wine.target\n",
        "\n",
        "scaler = StandardScaler()\n",
        "X = scaler.fit_transform(X)\n",
        "\n",
        "X_train, X_test, y_train, y_test = train_test_split(X, y, test_size=0.2, random_state=42)\n",
        "\n",
        "\n",
        "X_train = torch.FloatTensor(X_train)\n",
        "X_test = torch.FloatTensor(X_test)\n",
        "y_train = torch.LongTensor(y_train)\n",
        "y_test = torch.LongTensor(y_test)"
      ],
      "metadata": {
        "id": "GDlhJF4nnCkA"
      },
      "execution_count": 15,
      "outputs": []
    },
    {
      "cell_type": "code",
      "source": [
        "class RBF(nn.Module):\n",
        "    def __init__(self, input_dim, n_centers, output_dim, X_train):\n",
        "        super(RBF, self).__init__()\n",
        "        self.n_centers = n_centers\n",
        "\n",
        "\n",
        "        kmeans = KMeans(n_clusters=n_centers, random_state=42)\n",
        "        kmeans.fit(X_train.numpy())\n",
        "\n",
        "        self.centers = nn.Parameter(torch.FloatTensor(kmeans.cluster_centers_))\n",
        "\n",
        "        distances = torch.pdist(self.centers)\n",
        "        self.sigma = nn.Parameter(torch.ones(n_centers) * distances.mean())\n",
        "\n",
        "        self.fc = nn.Linear(n_centers, output_dim)\n",
        "\n",
        "    def gaussian_rbf(self, x, center, sigma):\n",
        "        \"\"\"Gaussian activation function\"\"\"\n",
        "        x_expanded = x.unsqueeze(1)\n",
        "        c_expanded = center.unsqueeze(0)\n",
        "        dist = torch.sum((x_expanded - c_expanded) ** 2, dim=-1)  # [batch_size, n_centers]\n",
        "        return torch.exp(-dist / (2 * sigma ** 2))\n",
        "\n",
        "    def forward(self, x):\n",
        "        rbf = self.gaussian_rbf(x, self.centers, self.sigma)\n",
        "        return self.fc(rbf)"
      ],
      "metadata": {
        "id": "DPMOzZFqmyXj"
      },
      "execution_count": 16,
      "outputs": []
    },
    {
      "cell_type": "code",
      "source": [
        "num_classes = len(np.unique(y))\n",
        "num_centers = 10\n",
        "input_dim = X.shape[1]\n",
        "\n",
        "rbf = RBF(input_dim, num_centers, num_classes, X_train)\n",
        "criterion = nn.CrossEntropyLoss()\n",
        "optimizer = optim.Adam(rbf.parameters(), lr=0.01)"
      ],
      "metadata": {
        "id": "3wRKduefmhN4"
      },
      "execution_count": 37,
      "outputs": []
    },
    {
      "cell_type": "code",
      "source": [
        "def train_rbf(model, X_train, y_train, X_test, y_test, n_epochs=100):\n",
        "    for epoch in range(n_epochs):\n",
        "\n",
        "        model.train()\n",
        "        optimizer.zero_grad()\n",
        "        outputs = model(X_train)\n",
        "        loss = criterion(outputs, y_train)\n",
        "        loss.backward()\n",
        "        optimizer.step()\n",
        "\n",
        "\n",
        "        model.eval()\n",
        "        with torch.no_grad():\n",
        "            test_op = model(X_test)\n",
        "            _, pred = torch.max(test_op, 1)\n",
        "            acc = (pred == y_test).sum().item() / y_test.size(0)\n",
        "            print(f\"Epoch {epoch+1}/{n_epochs}, Loss: {loss.item():.4f}, Accuracy: {acc:.4f}\")"
      ],
      "metadata": {
        "id": "f_O8Asvvmf34"
      },
      "execution_count": 38,
      "outputs": []
    },
    {
      "cell_type": "code",
      "source": [
        "train_rbf(rbf, X_train, y_train, X_test, y_test, n_epochs=10)"
      ],
      "metadata": {
        "colab": {
          "base_uri": "https://localhost:8080/"
        },
        "id": "-COU87WxmcZY",
        "outputId": "b9fb382f-ac85-4b35-eb89-9afcb74982a3"
      },
      "execution_count": 41,
      "outputs": [
        {
          "output_type": "stream",
          "name": "stdout",
          "text": [
            "Epoch 1/10, Loss: 0.9331, Accuracy: 0.6111\n",
            "Epoch 2/10, Loss: 0.9230, Accuracy: 0.6111\n",
            "Epoch 3/10, Loss: 0.9129, Accuracy: 0.6389\n",
            "Epoch 4/10, Loss: 0.9028, Accuracy: 0.6389\n",
            "Epoch 5/10, Loss: 0.8927, Accuracy: 0.6667\n",
            "Epoch 6/10, Loss: 0.8825, Accuracy: 0.6944\n",
            "Epoch 7/10, Loss: 0.8724, Accuracy: 0.7222\n",
            "Epoch 8/10, Loss: 0.8622, Accuracy: 0.8056\n",
            "Epoch 9/10, Loss: 0.8520, Accuracy: 0.8333\n",
            "Epoch 10/10, Loss: 0.8418, Accuracy: 0.8889\n"
          ]
        }
      ]
    },
    {
      "cell_type": "code",
      "source": [
        "def plot(model, X, y):\n",
        "    # Convert PyTorch tensors to NumPy arrays\n",
        "    X_np = X.numpy()\n",
        "    y_np = y.numpy()\n",
        "\n",
        "    # Define grid boundaries with some padding\n",
        "    X_min, X_max = X_np[:,0].min() - 1, X_np[:,0].max() + 1\n",
        "    y_min, y_max = X_np[:,1].min() - 1, X_np[:,1].max() + 1  # Changed to X_np[:,1] for y-axis\n",
        "\n",
        "    # Create meshgrid for plotting decision boundary\n",
        "    xx, yy = np.meshgrid(np.arange(X_min, X_max, 100),\n",
        "                         np.arange(y_min, y_max, 100))\n",
        "\n",
        "    # Create grid points and convert to PyTorch tensor\n",
        "    grid = torch.tensor(np.c_[xx.ravel(), yy.ravel()], dtype=torch.float32)\n",
        "\n",
        "    # Get model predictions\n",
        "    with torch.no_grad():\n",
        "        Z = model(grid)\n",
        "        Z = torch.argmax(Z, axis=1).reshape(xx.shape)\n",
        "\n",
        "    # Plot decision boundary and data points\n",
        "    plt.contourf(xx, yy, Z, alpha=0.4)\n",
        "    plt.scatter(X_np[:, 0], X_np[:, 1], c=y_np, edgecolors='k')\n",
        "    plt.show()"
      ],
      "metadata": {
        "id": "2PN_HSmEoLAZ"
      },
      "execution_count": 49,
      "outputs": []
    },
    {
      "cell_type": "code",
      "source": [
        "plot(rbf,X_train,y_train)"
      ],
      "metadata": {
        "colab": {
          "base_uri": "https://localhost:8080/",
          "height": 287
        },
        "id": "uoVOr0WWpGK4",
        "outputId": "444dba9b-ffbb-4207-b14a-e098c845a2fb"
      },
      "execution_count": 53,
      "outputs": [
        {
          "output_type": "error",
          "ename": "RuntimeError",
          "evalue": "The size of tensor a (2) must match the size of tensor b (13) at non-singleton dimension 2",
          "traceback": [
            "\u001b[0;31m---------------------------------------------------------------------------\u001b[0m",
            "\u001b[0;31mRuntimeError\u001b[0m                              Traceback (most recent call last)",
            "\u001b[0;32m<ipython-input-53-f85ff004a7fd>\u001b[0m in \u001b[0;36m<cell line: 0>\u001b[0;34m()\u001b[0m\n\u001b[0;32m----> 1\u001b[0;31m \u001b[0mplot\u001b[0m\u001b[0;34m(\u001b[0m\u001b[0mrbf\u001b[0m\u001b[0;34m,\u001b[0m\u001b[0mX_train\u001b[0m\u001b[0;34m,\u001b[0m\u001b[0my_train\u001b[0m\u001b[0;34m)\u001b[0m\u001b[0;34m\u001b[0m\u001b[0;34m\u001b[0m\u001b[0m\n\u001b[0m",
            "\u001b[0;32m<ipython-input-51-7d9284f0d5db>\u001b[0m in \u001b[0;36mplot\u001b[0;34m(model, X, y)\u001b[0m\n\u001b[1;32m     17\u001b[0m     \u001b[0;31m# Get model predictions\u001b[0m\u001b[0;34m\u001b[0m\u001b[0;34m\u001b[0m\u001b[0m\n\u001b[1;32m     18\u001b[0m     \u001b[0;32mwith\u001b[0m \u001b[0mtorch\u001b[0m\u001b[0;34m.\u001b[0m\u001b[0mno_grad\u001b[0m\u001b[0;34m(\u001b[0m\u001b[0;34m)\u001b[0m\u001b[0;34m:\u001b[0m\u001b[0;34m\u001b[0m\u001b[0;34m\u001b[0m\u001b[0m\n\u001b[0;32m---> 19\u001b[0;31m         \u001b[0mZ\u001b[0m \u001b[0;34m=\u001b[0m \u001b[0mmodel\u001b[0m\u001b[0;34m.\u001b[0m\u001b[0mforward\u001b[0m\u001b[0;34m(\u001b[0m\u001b[0mgrid\u001b[0m\u001b[0;34m)\u001b[0m  \u001b[0;31m# Use forward method\u001b[0m\u001b[0;34m\u001b[0m\u001b[0;34m\u001b[0m\u001b[0m\n\u001b[0m\u001b[1;32m     20\u001b[0m         \u001b[0;32mif\u001b[0m \u001b[0mZ\u001b[0m\u001b[0;34m.\u001b[0m\u001b[0mshape\u001b[0m\u001b[0;34m[\u001b[0m\u001b[0;36m1\u001b[0m\u001b[0;34m]\u001b[0m \u001b[0;34m>\u001b[0m \u001b[0;36m1\u001b[0m\u001b[0;34m:\u001b[0m  \u001b[0;31m# If multi-class\u001b[0m\u001b[0;34m\u001b[0m\u001b[0;34m\u001b[0m\u001b[0m\n\u001b[1;32m     21\u001b[0m             \u001b[0mZ\u001b[0m \u001b[0;34m=\u001b[0m \u001b[0mtorch\u001b[0m\u001b[0;34m.\u001b[0m\u001b[0margmax\u001b[0m\u001b[0;34m(\u001b[0m\u001b[0mZ\u001b[0m\u001b[0;34m,\u001b[0m \u001b[0maxis\u001b[0m\u001b[0;34m=\u001b[0m\u001b[0;36m1\u001b[0m\u001b[0;34m)\u001b[0m\u001b[0;34m\u001b[0m\u001b[0;34m\u001b[0m\u001b[0m\n",
            "\u001b[0;32m<ipython-input-16-fcc84ac85e1d>\u001b[0m in \u001b[0;36mforward\u001b[0;34m(self, x)\u001b[0m\n\u001b[1;32m     23\u001b[0m \u001b[0;34m\u001b[0m\u001b[0m\n\u001b[1;32m     24\u001b[0m     \u001b[0;32mdef\u001b[0m \u001b[0mforward\u001b[0m\u001b[0;34m(\u001b[0m\u001b[0mself\u001b[0m\u001b[0;34m,\u001b[0m \u001b[0mx\u001b[0m\u001b[0;34m)\u001b[0m\u001b[0;34m:\u001b[0m\u001b[0;34m\u001b[0m\u001b[0;34m\u001b[0m\u001b[0m\n\u001b[0;32m---> 25\u001b[0;31m         \u001b[0mrbf\u001b[0m \u001b[0;34m=\u001b[0m \u001b[0mself\u001b[0m\u001b[0;34m.\u001b[0m\u001b[0mgaussian_rbf\u001b[0m\u001b[0;34m(\u001b[0m\u001b[0mx\u001b[0m\u001b[0;34m,\u001b[0m \u001b[0mself\u001b[0m\u001b[0;34m.\u001b[0m\u001b[0mcenters\u001b[0m\u001b[0;34m,\u001b[0m \u001b[0mself\u001b[0m\u001b[0;34m.\u001b[0m\u001b[0msigma\u001b[0m\u001b[0;34m)\u001b[0m\u001b[0;34m\u001b[0m\u001b[0;34m\u001b[0m\u001b[0m\n\u001b[0m\u001b[1;32m     26\u001b[0m         \u001b[0;32mreturn\u001b[0m \u001b[0mself\u001b[0m\u001b[0;34m.\u001b[0m\u001b[0mfc\u001b[0m\u001b[0;34m(\u001b[0m\u001b[0mrbf\u001b[0m\u001b[0;34m)\u001b[0m\u001b[0;34m\u001b[0m\u001b[0;34m\u001b[0m\u001b[0m\n",
            "\u001b[0;32m<ipython-input-16-fcc84ac85e1d>\u001b[0m in \u001b[0;36mgaussian_rbf\u001b[0;34m(self, x, center, sigma)\u001b[0m\n\u001b[1;32m     19\u001b[0m         \u001b[0mx_expanded\u001b[0m \u001b[0;34m=\u001b[0m \u001b[0mx\u001b[0m\u001b[0;34m.\u001b[0m\u001b[0munsqueeze\u001b[0m\u001b[0;34m(\u001b[0m\u001b[0;36m1\u001b[0m\u001b[0;34m)\u001b[0m\u001b[0;34m\u001b[0m\u001b[0;34m\u001b[0m\u001b[0m\n\u001b[1;32m     20\u001b[0m         \u001b[0mc_expanded\u001b[0m \u001b[0;34m=\u001b[0m \u001b[0mcenter\u001b[0m\u001b[0;34m.\u001b[0m\u001b[0munsqueeze\u001b[0m\u001b[0;34m(\u001b[0m\u001b[0;36m0\u001b[0m\u001b[0;34m)\u001b[0m\u001b[0;34m\u001b[0m\u001b[0;34m\u001b[0m\u001b[0m\n\u001b[0;32m---> 21\u001b[0;31m         \u001b[0mdist\u001b[0m \u001b[0;34m=\u001b[0m \u001b[0mtorch\u001b[0m\u001b[0;34m.\u001b[0m\u001b[0msum\u001b[0m\u001b[0;34m(\u001b[0m\u001b[0;34m(\u001b[0m\u001b[0mx_expanded\u001b[0m \u001b[0;34m-\u001b[0m \u001b[0mc_expanded\u001b[0m\u001b[0;34m)\u001b[0m \u001b[0;34m**\u001b[0m \u001b[0;36m2\u001b[0m\u001b[0;34m,\u001b[0m \u001b[0mdim\u001b[0m\u001b[0;34m=\u001b[0m\u001b[0;34m-\u001b[0m\u001b[0;36m1\u001b[0m\u001b[0;34m)\u001b[0m  \u001b[0;31m# [batch_size, n_centers]\u001b[0m\u001b[0;34m\u001b[0m\u001b[0;34m\u001b[0m\u001b[0m\n\u001b[0m\u001b[1;32m     22\u001b[0m         \u001b[0;32mreturn\u001b[0m \u001b[0mtorch\u001b[0m\u001b[0;34m.\u001b[0m\u001b[0mexp\u001b[0m\u001b[0;34m(\u001b[0m\u001b[0;34m-\u001b[0m\u001b[0mdist\u001b[0m \u001b[0;34m/\u001b[0m \u001b[0;34m(\u001b[0m\u001b[0;36m2\u001b[0m \u001b[0;34m*\u001b[0m \u001b[0msigma\u001b[0m \u001b[0;34m**\u001b[0m \u001b[0;36m2\u001b[0m\u001b[0;34m)\u001b[0m\u001b[0;34m)\u001b[0m\u001b[0;34m\u001b[0m\u001b[0;34m\u001b[0m\u001b[0m\n\u001b[1;32m     23\u001b[0m \u001b[0;34m\u001b[0m\u001b[0m\n",
            "\u001b[0;31mRuntimeError\u001b[0m: The size of tensor a (2) must match the size of tensor b (13) at non-singleton dimension 2"
          ]
        }
      ]
    }
  ]
}