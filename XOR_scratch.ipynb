{
 "cells": [
  {
   "cell_type": "code",
   "execution_count": 2,
   "metadata": {},
   "outputs": [],
   "source": [
    "import numpy as np"
   ]
  },
  {
   "cell_type": "code",
   "execution_count": 3,
   "metadata": {},
   "outputs": [],
   "source": [
    "O = np.array([0, 1, 1, 0]).reshape(-1, 1)"
   ]
  },
  {
   "cell_type": "code",
   "execution_count": 4,
   "metadata": {},
   "outputs": [
    {
     "data": {
      "text/plain": [
       "array([[0],\n",
       "       [1],\n",
       "       [1],\n",
       "       [0]])"
      ]
     },
     "execution_count": 4,
     "metadata": {},
     "output_type": "execute_result"
    }
   ],
   "source": [
    "O"
   ]
  },
  {
   "cell_type": "code",
   "execution_count": 7,
   "metadata": {},
   "outputs": [
    {
     "data": {
      "text/plain": [
       "array([[-11.5],\n",
       "       [  9.5]])"
      ]
     },
     "execution_count": 7,
     "metadata": {},
     "output_type": "execute_result"
    }
   ],
   "source": [
    "np.array([[-11.5, 9.5]]).reshape(-1,1)"
   ]
  },
  {
   "cell_type": "code",
   "execution_count": null,
   "metadata": {},
   "outputs": [
    {
     "name": "stdout",
     "output_type": "stream",
     "text": [
      "Final Predictions:\n",
      "Input: [0 0], Output: 0.2850, Target: 0\n",
      "Input: [0 1], Output: 0.7121, Target: 1\n",
      "Input: [1 0], Output: 0.7749, Target: 1\n",
      "Input: [1 1], Output: 0.3503, Target: 0\n"
     ]
    }
   ],
   "source": [
    "import numpy as np\n",
    "import matplotlib.pyplot as plt\n",
    "\n",
    "X = np.array([[0, 0],\n",
    "              [0, 1],\n",
    "               [1, 0],\n",
    "              [1, 1]])\n",
    "O = np.array([0, 1, 1, 0]).reshape(-1, 1)\n",
    "\n",
    "input_hidden_weights = np.array([[1.0, 5.0], [2.0, 6.0]])\n",
    "hidden_output_weights = np.array([[-11.5], [9.5]]).reshape(-1,1)\n",
    "\n",
    "def sigmoid_activation_function(x):\n",
    "    return 1 / (1 + np.exp(-x))\n",
    "\n",
    "def sigmoid_derivative(x):\n",
    "    return x * (1 - x)\n",
    "\n",
    "lr = 0.1\n",
    "epochs = 100\n",
    "\n",
    "for epoch in range(epochs):\n",
    "    print(epoch, end=\"\\r\", flush=True)\n",
    "    for i in range(4):\n",
    "        input_to_hidden = np.dot(X[i], input_hidden_weights).reshape(-1, 1)\n",
    "        hidden_output = sigmoid_activation_function(input_to_hidden)\n",
    "        \n",
    "        input_to_output = np.dot(hidden_output.T, hidden_output_weights)\n",
    "        output = sigmoid_activation_function(input_to_output)\n",
    "        \n",
    "        error = O[i] - output\n",
    "        \n",
    "        if abs(error) > 0:\n",
    "            output_delta = error * sigmoid_derivative(output)\n",
    "            # hidden_delta = np.dot(hidden_output_weights, output_delta.T).flatten() * sigmoid_derivative(hidden_output).flatten()\n",
    "            hidden_delta = np.dot(hidden_output_weights, output_delta.T) * sigmoid_derivative(hidden_output)\n",
    "            \n",
    "            hidden_output_weights += lr * output_delta * hidden_output\n",
    "            input_hidden_weights += lr * np.dot(X[i].reshape(-1, 1), hidden_delta.reshape(1, -1))\n",
    "\n",
    "print(\"Final Predictions:\")\n",
    "for i in range(4):\n",
    "    input_to_hidden = np.dot(X[i], input_hidden_weights).reshape(-1, 1)\n",
    "    hidden_output = sigmoid_activation_function(input_to_hidden)\n",
    "    input_to_output = np.dot(hidden_output.T, hidden_output_weights)\n",
    "    output = sigmoid_activation_function(input_to_output)\n",
    "    print(f\"Input: {X[i]}, Output: {output[0][0]:.4f}, Target: {O[i][0]}\")\n"
   ]
  },
  {
   "cell_type": "code",
   "execution_count": 2,
   "metadata": {},
   "outputs": [
    {
     "data": {
      "text/plain": [
       "array([[0.98053484, 5.0192963 ],\n",
       "       [1.14951114, 6.02150126]])"
      ]
     },
     "execution_count": 2,
     "metadata": {},
     "output_type": "execute_result"
    }
   ],
   "source": [
    "input_hidden_weights"
   ]
  },
  {
   "cell_type": "code",
   "execution_count": 3,
   "metadata": {},
   "outputs": [
    {
     "data": {
      "text/plain": [
       "array([[-11.51019454],\n",
       "       [  9.67023153]])"
      ]
     },
     "execution_count": 3,
     "metadata": {},
     "output_type": "execute_result"
    }
   ],
   "source": [
    "hidden_output_weights"
   ]
  }
 ],
 "metadata": {
  "kernelspec": {
   "display_name": "myenv",
   "language": "python",
   "name": "python3"
  },
  "language_info": {
   "codemirror_mode": {
    "name": "ipython",
    "version": 3
   },
   "file_extension": ".py",
   "mimetype": "text/x-python",
   "name": "python",
   "nbconvert_exporter": "python",
   "pygments_lexer": "ipython3",
   "version": "3.12.7"
  }
 },
 "nbformat": 4,
 "nbformat_minor": 2
}
