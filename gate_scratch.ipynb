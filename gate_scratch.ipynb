{
 "cells": [
  {
   "cell_type": "code",
   "execution_count": 1,
   "metadata": {},
   "outputs": [],
   "source": [
    "def activation(x, th=1):\n",
    "    return 0 if x < th else 1"
   ]
  },
  {
   "cell_type": "code",
   "execution_count": 2,
   "metadata": {},
   "outputs": [],
   "source": [
    "def perceptron(y=[0,0,0,1],w=[-4,-3],bias=-1,lr=0.5):\n",
    "    a = [0, 0, 1, 1]\n",
    "    b = [0, 1, 0, 1]\n",
    "\n",
    "    c = 0 \n",
    "    while True:  \n",
    "        error_count = 0\n",
    "        for i in range(4):\n",
    "\n",
    "            sum = a[i] * w[0] + b[i] * w[1] + bias\n",
    "            op = activation(sum)\n",
    "\n",
    "            if op != y[i]:\n",
    "                error_count += 1\n",
    "                w[0] += lr * (y[i] - op) * a[i]\n",
    "                w[1] += lr * (y[i] - op) * b[i]\n",
    "                bias += lr * (y[i] - op)\n",
    "\n",
    "        c += 1\n",
    "        if error_count == 0:\n",
    "            break\n",
    "\n",
    "    print(\"weight\", w)\n",
    "    print(\"n_iter\", c)\n",
    "    return w, bias"
   ]
  },
  {
   "cell_type": "code",
   "execution_count": 3,
   "metadata": {},
   "outputs": [],
   "source": [
    "def predict(X, w, bias):\n",
    "    return activation(X[0] * w[0] + X[1] * w[1] + bias)"
   ]
  },
  {
   "cell_type": "code",
   "execution_count": 4,
   "metadata": {},
   "outputs": [
    {
     "name": "stdout",
     "output_type": "stream",
     "text": [
      "weight [1.0, 0.5]\n",
      "n_iter 14\n",
      "0\n",
      "0\n",
      "0\n",
      "1\n"
     ]
    }
   ],
   "source": [
    "#and gate\n",
    "w, bias = perceptron([0, 0, 0, 1], [-4, -3], -1, 0.5)\n",
    "\n",
    "print(predict([0, 0], w, bias)) \n",
    "print(predict([0, 1], w, bias)) \n",
    "print(predict([1, 0], w, bias)) \n",
    "print(predict([1, 1], w, bias)) "
   ]
  },
  {
   "cell_type": "code",
   "execution_count": 5,
   "metadata": {},
   "outputs": [
    {
     "name": "stdout",
     "output_type": "stream",
     "text": [
      "weight [-1.0, -1.0]\n",
      "n_iter 8\n",
      "1\n",
      "1\n",
      "1\n",
      "0\n"
     ]
    }
   ],
   "source": [
    "# or gate\n",
    "w_and, bias = perceptron([1,1,1,0], [-4, -3], -5, 0.5)\n",
    "\n",
    "print(predict([0, 0], w_and, bias))\n",
    "print(predict([0, 1], w_and, bias))\n",
    "print(predict([1, 0], w_and, bias))\n",
    "print(predict([1, 1], w_and, bias))"
   ]
  },
  {
   "cell_type": "code",
   "execution_count": 8,
   "metadata": {},
   "outputs": [],
   "source": [
    "# xor gate\n",
    "w_or, bias = perceptron([0,1,1,0], [-4, -3], -1, 0.5)\n",
    "\n",
    "print(predict([0, 0], w_or, bias))\n",
    "print(predict([0, 1], w_or, bias))\n",
    "print(predict([1, 0], w_or, bias))\n",
    "print(predict([1, 1], w_or, bias))"
   ]
  },
  {
   "cell_type": "code",
   "execution_count": 6,
   "metadata": {},
   "outputs": [],
   "source": [
    "def not_perceptron():\n",
    "    a = [0,1]\n",
    "    y = [1,0]\n",
    "    w = -2\n",
    "    bias = 1\n",
    "    lr = 0.5\n",
    "\n",
    "    c = 0\n",
    "    while True:\n",
    "        error_count = 0\n",
    "        for i in range(2):\n",
    "            sum = a[i] * w + bias\n",
    "            op = activation(sum)\n",
    "\n",
    "            if op != y[i]:\n",
    "                error_count += 1\n",
    "                w += lr * (y[i] - op) * a[i]\n",
    "                bias += lr * (y[i] - op)\n",
    "\n",
    "        c += 1\n",
    "        if error_count == 0:\n",
    "            break\n",
    "\n",
    "    print(\"weight\", w)\n",
    "    print(\"n_iter\", c)\n",
    "    return w, bias"
   ]
  },
  {
   "cell_type": "code",
   "execution_count": 7,
   "metadata": {},
   "outputs": [],
   "source": [
    "def predict_not(X, w, bias):\n",
    "    return activation(X * w + bias)"
   ]
  },
  {
   "cell_type": "code",
   "execution_count": 9,
   "metadata": {},
   "outputs": [
    {
     "name": "stdout",
     "output_type": "stream",
     "text": [
      "weight -2\n",
      "n_iter 1\n",
      "1\n",
      "0\n"
     ]
    }
   ],
   "source": [
    "w_not, bias = not_perceptron()\n",
    "\n",
    "print(predict_not(0, w_not, bias))\n",
    "print(predict_not(1, w_not, bias))"
   ]
  },
  {
   "cell_type": "code",
   "execution_count": null,
   "metadata": {},
   "outputs": [],
   "source": []
  }
 ],
 "metadata": {
  "kernelspec": {
   "display_name": "Python 3",
   "language": "python",
   "name": "python3"
  },
  "language_info": {
   "codemirror_mode": {
    "name": "ipython",
    "version": 3
   },
   "file_extension": ".py",
   "mimetype": "text/x-python",
   "name": "python",
   "nbconvert_exporter": "python",
   "pygments_lexer": "ipython3",
   "version": "3.12.5"
  }
 },
 "nbformat": 4,
 "nbformat_minor": 2
}
