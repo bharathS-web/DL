{
 "cells": [
  {
   "cell_type": "markdown",
   "id": "75e20e15",
   "metadata": {},
   "source": [
    "# DBN - Deep Belief Network"
   ]
  },
  {
   "cell_type": "code",
   "execution_count": null,
   "id": "eae58c61",
   "metadata": {},
   "outputs": [],
   "source": [
    "import tensorflow as tf\n",
    "import numpy as np\n",
    "import matplotlib.pyplot as plt"
   ]
  },
  {
   "cell_type": "code",
   "execution_count": null,
   "id": "cb677f56",
   "metadata": {},
   "outputs": [],
   "source": [
    "\n",
    "# --- RBM Implementation ---\n",
    "class RBM(tf.Module):\n",
    "    def __init__(self, n_visible, n_hidden, name=None):\n",
    "        super().__init__(name=name)\n",
    "        self.n_visible = n_visible\n",
    "        self.n_hidden = n_hidden\n",
    "        self.W = tf.Variable(tf.random.normal([n_visible, n_hidden], stddev=0.01))\n",
    "        self.h_bias = tf.Variable(tf.zeros([n_hidden]))\n",
    "        self.v_bias = tf.Variable(tf.zeros([n_visible]))\n",
    "\n",
    "    def sample_prob(self, probs):\n",
    "        return tf.cast(tf.random.uniform(tf.shape(probs)) < probs, tf.float32)\n",
    "\n",
    "    def v_to_h(self, v):\n",
    "        h_prob = tf.nn.sigmoid(tf.matmul(v, self.W) + self.h_bias)\n",
    "        return h_prob, self.sample_prob(h_prob)\n",
    "\n",
    "    def h_to_v(self, h):\n",
    "        v_prob = tf.nn.sigmoid(tf.matmul(h, tf.transpose(self.W)) + self.v_bias)\n",
    "        return v_prob, self.sample_prob(v_prob)\n",
    "\n",
    "    def contrastive_divergence(self, v0, lr=0.01):\n",
    "        h0_prob, h0_sample = self.v_to_h(v0)\n",
    "        v1_prob, v1_sample = self.h_to_v(h0_sample)\n",
    "        h1_prob, _ = self.v_to_h(v1_sample)\n",
    "\n",
    "        W_update = tf.matmul(tf.transpose(v0), h0_prob) - tf.matmul(tf.transpose(v1_sample), h1_prob)\n",
    "        self.W.assign_add(lr * W_update / tf.cast(tf.shape(v0)[0], tf.float32))\n",
    "        self.v_bias.assign_add(lr * tf.reduce_mean(v0 - v1_sample, axis=0))\n",
    "        self.h_bias.assign_add(lr * tf.reduce_mean(h0_prob - h1_prob, axis=0))\n",
    "\n",
    "        loss = tf.reduce_mean(tf.square(v0 - v1_prob))\n",
    "        return loss\n",
    "\n",
    "    def forward(self, v):\n",
    "        h_prob, _ = self.v_to_h(v)\n",
    "        return h_prob\n"
   ]
  },
  {
   "cell_type": "code",
   "execution_count": null,
   "id": "dfc6ae7b",
   "metadata": {},
   "outputs": [],
   "source": [
    "# --- Preprocessing ---\n",
    "def preprocess(x):\n",
    "    x = x.astype(np.float32) / 255.\n",
    "    return x.reshape(-1, 784)\n",
    "\n",
    "(x_train, y_train), (x_test, y_test) = tf.keras.datasets.mnist.load_data()\n",
    "x_train = preprocess(x_train)\n",
    "x_test = preprocess(x_test)\n"
   ]
  },
  {
   "cell_type": "code",
   "execution_count": null,
   "id": "54c54dcc",
   "metadata": {},
   "outputs": [],
   "source": [
    "\n",
    "# --- RBM Training ---\n",
    "def train_rbm(rbm, data, epochs=5, batch_size=64, lr=0.01):\n",
    "    for epoch in range(epochs):\n",
    "        losses = []\n",
    "        for i in range(0, len(data), batch_size):\n",
    "            batch = tf.convert_to_tensor(data[i:i+batch_size])\n",
    "            loss = rbm.contrastive_divergence(batch, lr)\n",
    "            losses.append(loss.numpy())\n",
    "        print(f\"RBM {rbm.n_visible}->{rbm.n_hidden} | Epoch {epoch+1}, Loss: {np.mean(losses):.4f}\")\n"
   ]
  },
  {
   "cell_type": "code",
   "execution_count": null,
   "id": "5ad96671",
   "metadata": {},
   "outputs": [
    {
     "name": "stdout",
     "output_type": "stream",
     "text": [
      "RBM 784->512 | Epoch 1, Loss: 0.0514\n",
      "RBM 512->256 | Epoch 1, Loss: 0.0238\n"
     ]
    }
   ],
   "source": [
    "# --- Stack RBMs for DBN Pretraining ---\n",
    "rbm1 = RBM(784, 512)\n",
    "train_rbm(rbm1, x_train, epochs=1)\n",
    "\n",
    "h1_train = rbm1.forward(tf.convert_to_tensor(x_train)).numpy()\n",
    "rbm2 = RBM(512, 256)\n",
    "train_rbm(rbm2, h1_train, epochs=1)\n",
    "\n",
    "h2_train = rbm2.forward(tf.convert_to_tensor(h1_train)).numpy()\n"
   ]
  },
  {
   "cell_type": "code",
   "execution_count": 15,
   "id": "3ad837e9",
   "metadata": {},
   "outputs": [
    {
     "data": {
      "text/html": [
       "<pre style=\"white-space:pre;overflow-x:auto;line-height:normal;font-family:Menlo,'DejaVu Sans Mono',consolas,'Courier New',monospace\"><span style=\"font-weight: bold\">Model: \"sequential_4\"</span>\n",
       "</pre>\n"
      ],
      "text/plain": [
       "\u001b[1mModel: \"sequential_4\"\u001b[0m\n"
      ]
     },
     "metadata": {},
     "output_type": "display_data"
    },
    {
     "data": {
      "text/html": [
       "<pre style=\"white-space:pre;overflow-x:auto;line-height:normal;font-family:Menlo,'DejaVu Sans Mono',consolas,'Courier New',monospace\">┏━━━━━━━━━━━━━━━━━━━━━━━━━━━━━━━━━┳━━━━━━━━━━━━━━━━━━━━━━━━┳━━━━━━━━━━━━━━━┓\n",
       "┃<span style=\"font-weight: bold\"> Layer (type)                    </span>┃<span style=\"font-weight: bold\"> Output Shape           </span>┃<span style=\"font-weight: bold\">       Param # </span>┃\n",
       "┡━━━━━━━━━━━━━━━━━━━━━━━━━━━━━━━━━╇━━━━━━━━━━━━━━━━━━━━━━━━╇━━━━━━━━━━━━━━━┩\n",
       "│ dense_5 (<span style=\"color: #0087ff; text-decoration-color: #0087ff\">Dense</span>)                 │ (<span style=\"color: #00d7ff; text-decoration-color: #00d7ff\">None</span>, <span style=\"color: #00af00; text-decoration-color: #00af00\">512</span>)            │       <span style=\"color: #00af00; text-decoration-color: #00af00\">401,920</span> │\n",
       "├─────────────────────────────────┼────────────────────────┼───────────────┤\n",
       "│ dense_6 (<span style=\"color: #0087ff; text-decoration-color: #0087ff\">Dense</span>)                 │ (<span style=\"color: #00d7ff; text-decoration-color: #00d7ff\">None</span>, <span style=\"color: #00af00; text-decoration-color: #00af00\">256</span>)            │       <span style=\"color: #00af00; text-decoration-color: #00af00\">131,328</span> │\n",
       "├─────────────────────────────────┼────────────────────────┼───────────────┤\n",
       "│ dense_7 (<span style=\"color: #0087ff; text-decoration-color: #0087ff\">Dense</span>)                 │ (<span style=\"color: #00d7ff; text-decoration-color: #00d7ff\">None</span>, <span style=\"color: #00af00; text-decoration-color: #00af00\">10</span>)             │         <span style=\"color: #00af00; text-decoration-color: #00af00\">2,570</span> │\n",
       "└─────────────────────────────────┴────────────────────────┴───────────────┘\n",
       "</pre>\n"
      ],
      "text/plain": [
       "┏━━━━━━━━━━━━━━━━━━━━━━━━━━━━━━━━━┳━━━━━━━━━━━━━━━━━━━━━━━━┳━━━━━━━━━━━━━━━┓\n",
       "┃\u001b[1m \u001b[0m\u001b[1mLayer (type)                   \u001b[0m\u001b[1m \u001b[0m┃\u001b[1m \u001b[0m\u001b[1mOutput Shape          \u001b[0m\u001b[1m \u001b[0m┃\u001b[1m \u001b[0m\u001b[1m      Param #\u001b[0m\u001b[1m \u001b[0m┃\n",
       "┡━━━━━━━━━━━━━━━━━━━━━━━━━━━━━━━━━╇━━━━━━━━━━━━━━━━━━━━━━━━╇━━━━━━━━━━━━━━━┩\n",
       "│ dense_5 (\u001b[38;5;33mDense\u001b[0m)                 │ (\u001b[38;5;45mNone\u001b[0m, \u001b[38;5;34m512\u001b[0m)            │       \u001b[38;5;34m401,920\u001b[0m │\n",
       "├─────────────────────────────────┼────────────────────────┼───────────────┤\n",
       "│ dense_6 (\u001b[38;5;33mDense\u001b[0m)                 │ (\u001b[38;5;45mNone\u001b[0m, \u001b[38;5;34m256\u001b[0m)            │       \u001b[38;5;34m131,328\u001b[0m │\n",
       "├─────────────────────────────────┼────────────────────────┼───────────────┤\n",
       "│ dense_7 (\u001b[38;5;33mDense\u001b[0m)                 │ (\u001b[38;5;45mNone\u001b[0m, \u001b[38;5;34m10\u001b[0m)             │         \u001b[38;5;34m2,570\u001b[0m │\n",
       "└─────────────────────────────────┴────────────────────────┴───────────────┘\n"
      ]
     },
     "metadata": {},
     "output_type": "display_data"
    },
    {
     "data": {
      "text/html": [
       "<pre style=\"white-space:pre;overflow-x:auto;line-height:normal;font-family:Menlo,'DejaVu Sans Mono',consolas,'Courier New',monospace\"><span style=\"font-weight: bold\"> Total params: </span><span style=\"color: #00af00; text-decoration-color: #00af00\">535,818</span> (2.04 MB)\n",
       "</pre>\n"
      ],
      "text/plain": [
       "\u001b[1m Total params: \u001b[0m\u001b[38;5;34m535,818\u001b[0m (2.04 MB)\n"
      ]
     },
     "metadata": {},
     "output_type": "display_data"
    },
    {
     "data": {
      "text/html": [
       "<pre style=\"white-space:pre;overflow-x:auto;line-height:normal;font-family:Menlo,'DejaVu Sans Mono',consolas,'Courier New',monospace\"><span style=\"font-weight: bold\"> Trainable params: </span><span style=\"color: #00af00; text-decoration-color: #00af00\">535,818</span> (2.04 MB)\n",
       "</pre>\n"
      ],
      "text/plain": [
       "\u001b[1m Trainable params: \u001b[0m\u001b[38;5;34m535,818\u001b[0m (2.04 MB)\n"
      ]
     },
     "metadata": {},
     "output_type": "display_data"
    },
    {
     "data": {
      "text/html": [
       "<pre style=\"white-space:pre;overflow-x:auto;line-height:normal;font-family:Menlo,'DejaVu Sans Mono',consolas,'Courier New',monospace\"><span style=\"font-weight: bold\"> Non-trainable params: </span><span style=\"color: #00af00; text-decoration-color: #00af00\">0</span> (0.00 B)\n",
       "</pre>\n"
      ],
      "text/plain": [
       "\u001b[1m Non-trainable params: \u001b[0m\u001b[38;5;34m0\u001b[0m (0.00 B)\n"
      ]
     },
     "metadata": {},
     "output_type": "display_data"
    }
   ],
   "source": [
    "from tensorflow.keras.layers import Input , Dense\n",
    "from tensorflow.keras.models import Sequential\n",
    "\n",
    "model = Sequential()\n",
    "model.add(Input(shape=(784,)))\n",
    "\n",
    "model.add(Dense(\n",
    "    512, activation='sigmoid'\n",
    "))\n",
    "\n",
    "model.layers[-1].set_weights([rbm1.W.numpy(),rbm1.h_bias.numpy()])\n",
    "\n",
    "model.add(Dense(\n",
    "    256, activation='sigmoid'\n",
    "))\n",
    "\n",
    "model.layers[-1].set_weights([rbm2.W.numpy(),rbm2.h_bias.numpy()])\n",
    "\n",
    "model.add(Dense(10, activation='softmax'))\n",
    "\n",
    "model.summary()"
   ]
  },
  {
   "cell_type": "code",
   "execution_count": null,
   "id": "54b40616",
   "metadata": {},
   "outputs": [
    {
     "name": "stdout",
     "output_type": "stream",
     "text": [
      "Epoch 1/10\n",
      "\u001b[1m844/844\u001b[0m \u001b[32m━━━━━━━━━━━━━━━━━━━━\u001b[0m\u001b[37m\u001b[0m \u001b[1m9s\u001b[0m 9ms/step - accuracy: 0.7970 - loss: 0.6632 - val_accuracy: 0.9570 - val_loss: 0.1513\n",
      "Epoch 2/10\n",
      "\u001b[1m844/844\u001b[0m \u001b[32m━━━━━━━━━━━━━━━━━━━━\u001b[0m\u001b[37m\u001b[0m \u001b[1m7s\u001b[0m 9ms/step - accuracy: 0.9481 - loss: 0.1707 - val_accuracy: 0.9700 - val_loss: 0.1090\n",
      "Epoch 3/10\n",
      "\u001b[1m844/844\u001b[0m \u001b[32m━━━━━━━━━━━━━━━━━━━━\u001b[0m\u001b[37m\u001b[0m \u001b[1m7s\u001b[0m 8ms/step - accuracy: 0.9662 - loss: 0.1144 - val_accuracy: 0.9748 - val_loss: 0.0908\n",
      "Epoch 4/10\n",
      "\u001b[1m844/844\u001b[0m \u001b[32m━━━━━━━━━━━━━━━━━━━━\u001b[0m\u001b[37m\u001b[0m \u001b[1m8s\u001b[0m 9ms/step - accuracy: 0.9757 - loss: 0.0813 - val_accuracy: 0.9748 - val_loss: 0.0913\n",
      "Epoch 5/10\n",
      "\u001b[1m844/844\u001b[0m \u001b[32m━━━━━━━━━━━━━━━━━━━━\u001b[0m\u001b[37m\u001b[0m \u001b[1m7s\u001b[0m 9ms/step - accuracy: 0.9813 - loss: 0.0617 - val_accuracy: 0.9777 - val_loss: 0.0746\n",
      "Epoch 6/10\n",
      "\u001b[1m844/844\u001b[0m \u001b[32m━━━━━━━━━━━━━━━━━━━━\u001b[0m\u001b[37m\u001b[0m \u001b[1m8s\u001b[0m 9ms/step - accuracy: 0.9865 - loss: 0.0453 - val_accuracy: 0.9752 - val_loss: 0.0817\n",
      "Epoch 7/10\n",
      "\u001b[1m844/844\u001b[0m \u001b[32m━━━━━━━━━━━━━━━━━━━━\u001b[0m\u001b[37m\u001b[0m \u001b[1m8s\u001b[0m 9ms/step - accuracy: 0.9895 - loss: 0.0343 - val_accuracy: 0.9800 - val_loss: 0.0719\n",
      "Epoch 8/10\n",
      "\u001b[1m844/844\u001b[0m \u001b[32m━━━━━━━━━━━━━━━━━━━━\u001b[0m\u001b[37m\u001b[0m \u001b[1m8s\u001b[0m 9ms/step - accuracy: 0.9926 - loss: 0.0256 - val_accuracy: 0.9812 - val_loss: 0.0681\n",
      "Epoch 9/10\n",
      "\u001b[1m844/844\u001b[0m \u001b[32m━━━━━━━━━━━━━━━━━━━━\u001b[0m\u001b[37m\u001b[0m \u001b[1m7s\u001b[0m 9ms/step - accuracy: 0.9950 - loss: 0.0185 - val_accuracy: 0.9798 - val_loss: 0.0744\n",
      "Epoch 10/10\n",
      "\u001b[1m844/844\u001b[0m \u001b[32m━━━━━━━━━━━━━━━━━━━━\u001b[0m\u001b[37m\u001b[0m \u001b[1m8s\u001b[0m 9ms/step - accuracy: 0.9956 - loss: 0.0154 - val_accuracy: 0.9808 - val_loss: 0.0707\n",
      "\u001b[1m313/313\u001b[0m \u001b[32m━━━━━━━━━━━━━━━━━━━━\u001b[0m\u001b[37m\u001b[0m \u001b[1m1s\u001b[0m 3ms/step - accuracy: 0.9765 - loss: 0.0900\n",
      "\n",
      "Test Accuracy: 0.9792\n"
     ]
    }
   ],
   "source": [
    "\n",
    "# --- Fine-tune with Supervised Learning ---\n",
    "model.compile(optimizer='adam', loss='sparse_categorical_crossentropy', metrics=['accuracy'])\n",
    "model.fit(x_train, y_train, epochs=10, batch_size=64, validation_split=0.1)\n",
    "\n",
    "# --- Evaluate ---\n",
    "test_loss, test_acc = model.evaluate(x_test, y_test)\n",
    "print(f\"\\nTest Accuracy: {test_acc:.4f}\")\n"
   ]
  },
  {
   "cell_type": "code",
   "execution_count": null,
   "id": "121f4763",
   "metadata": {},
   "outputs": [
    {
     "name": "stdout",
     "output_type": "stream",
     "text": [
      "\u001b[1m1/1\u001b[0m \u001b[32m━━━━━━━━━━━━━━━━━━━━\u001b[0m\u001b[37m\u001b[0m \u001b[1m0s\u001b[0m 55ms/step\n"
     ]
    },
    {
     "data": {
      "text/plain": [
       "<matplotlib.image.AxesImage at 0x17878939e80>"
      ]
     },
     "execution_count": 30,
     "metadata": {},
     "output_type": "execute_result"
    },
    {
     "data": {
      "image/png": "[encoded data removed]",
      "text/plain": [
       "<Figure size 640x480 with 1 Axes>"
      ]
     },
     "metadata": {},
     "output_type": "display_data"
    }
   ],
   "source": [
    "import matplotlib.pyplot as plt\n",
    "import numpy as np\n",
    "\n",
    "sample = x_test[0].reshape(1,784)\n",
    "\n",
    "pred  = model.predict(sample)\n",
    "pred_label = np.argmax(pred)\n",
    "\n",
    "plt.title(f\"Pred Class ->   {pred_label}\")\n",
    "plt.imshow(sample.reshape(28,28),cmap='gray')"
   ]
  },
  {
   "cell_type": "code",
   "execution_count": 8,
   "id": "1e167775",
   "metadata": {},
   "outputs": [
    {
     "data": {
      "text/plain": [
       "TensorShape([784, 512])"
      ]
     },
     "execution_count": 8,
     "metadata": {},
     "output_type": "execute_result"
    }
   ],
   "source": [
    "rbm1.W.shape"
   ]
  },
  {
   "cell_type": "code",
   "execution_count": 9,
   "id": "77c89f39",
   "metadata": {},
   "outputs": [
    {
     "data": {
      "text/plain": [
       "TensorShape([512, 256])"
      ]
     },
     "execution_count": 9,
     "metadata": {},
     "output_type": "execute_result"
    }
   ],
   "source": [
    "rbm2.W.shape"
   ]
  },
  {
   "cell_type": "code",
   "execution_count": 10,
   "id": "2447146b",
   "metadata": {},
   "outputs": [
    {
     "data": {
      "text/plain": [
       "TensorShape([512])"
      ]
     },
     "execution_count": 10,
     "metadata": {},
     "output_type": "execute_result"
    }
   ],
   "source": [
    "rbm1.h_bias.shape"
   ]
  },
  {
   "cell_type": "code",
   "execution_count": 11,
   "id": "3c7d50be",
   "metadata": {},
   "outputs": [
    {
     "data": {
      "text/plain": [
       "TensorShape([256])"
      ]
     },
     "execution_count": 11,
     "metadata": {},
     "output_type": "execute_result"
    }
   ],
   "source": [
    "rbm2.h_bias.shape"
   ]
  }
 ],
 "metadata": {
  "kernelspec": {
   "display_name": "myenv",
   "language": "python",
   "name": "python3"
  },
  "language_info": {
   "codemirror_mode": {
    "name": "ipython",
    "version": 3
   },
   "file_extension": ".py",
   "mimetype": "text/x-python",
   "name": "python",
   "nbconvert_exporter": "python",
   "pygments_lexer": "ipython3",
   "version": "3.12.7"
  }
 },
 "nbformat": 4,
 "nbformat_minor": 5
}
